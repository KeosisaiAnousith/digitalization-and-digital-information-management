{
 "cells": [
  {
   "cell_type": "markdown",
   "metadata": {},
   "source": [
    "# CƠ BẢN VỀ PYTORCH"
   ]
  },
  {
   "cell_type": "markdown",
   "metadata": {},
   "source": [
    "### Sử dụng GPU và Cuda"
   ]
  },
  {
   "cell_type": "code",
   "execution_count": 1,
   "metadata": {},
   "outputs": [
    {
     "data": {
      "text/plain": [
       "<function torch.cuda.current_device() -> int>"
      ]
     },
     "execution_count": 1,
     "metadata": {},
     "output_type": "execute_result"
    }
   ],
   "source": [
    "import torch\n",
    "torch.cuda.current_device"
   ]
  },
  {
   "cell_type": "code",
   "execution_count": 3,
   "metadata": {},
   "outputs": [
    {
     "ename": "TypeError",
     "evalue": "current_device() takes 0 positional arguments but 1 was given",
     "output_type": "error",
     "traceback": [
      "\u001b[31m---------------------------------------------------------------------------\u001b[39m",
      "\u001b[31mTypeError\u001b[39m                                 Traceback (most recent call last)",
      "\u001b[36mCell\u001b[39m\u001b[36m \u001b[39m\u001b[32mIn[3]\u001b[39m\u001b[32m, line 1\u001b[39m\n\u001b[32m----> \u001b[39m\u001b[32m1\u001b[39m \u001b[43mtorch\u001b[49m\u001b[43m.\u001b[49m\u001b[43mcuda\u001b[49m\u001b[43m.\u001b[49m\u001b[43mcurrent_device\u001b[49m\u001b[43m(\u001b[49m\u001b[32;43m0\u001b[39;49m\u001b[43m)\u001b[49m\n",
      "\u001b[31mTypeError\u001b[39m: current_device() takes 0 positional arguments but 1 was given"
     ]
    }
   ],
   "source": [
    "torch.cuda.current_device(0)"
   ]
  },
  {
   "cell_type": "code",
   "execution_count": 4,
   "metadata": {},
   "outputs": [
    {
     "data": {
      "text/plain": [
       "0"
      ]
     },
     "execution_count": 4,
     "metadata": {},
     "output_type": "execute_result"
    }
   ],
   "source": [
    "#Trả về mức sử dụng bộ nhớ GPU hiện tại theo tensors tính bằng bytes cho thiết bị.\n",
    "torch.cuda.memory_allocated()"
   ]
  },
  {
   "cell_type": "code",
   "execution_count": 4,
   "metadata": {},
   "outputs": [
    {
     "data": {
      "text/plain": [
       "0"
      ]
     },
     "execution_count": 4,
     "metadata": {},
     "output_type": "execute_result"
    }
   ],
   "source": [
    "#Trả về bộ nhớ GPU hiện tại được quản lý bởi bộ phân bố bộ nhớ đệm theo byte\n",
    "torch.cuda.memory_reserved()\n"
   ]
  },
  {
   "cell_type": "markdown",
   "metadata": {},
   "source": [
    "### Dataset with pytorch"
   ]
  },
  {
   "cell_type": "code",
   "execution_count": 5,
   "metadata": {},
   "outputs": [
    {
     "data": {
      "text/html": [
       "<div>\n",
       "<style scoped>\n",
       "    .dataframe tbody tr th:only-of-type {\n",
       "        vertical-align: middle;\n",
       "    }\n",
       "\n",
       "    .dataframe tbody tr th {\n",
       "        vertical-align: top;\n",
       "    }\n",
       "\n",
       "    .dataframe thead th {\n",
       "        text-align: right;\n",
       "    }\n",
       "</style>\n",
       "<table border=\"1\" class=\"dataframe\">\n",
       "  <thead>\n",
       "    <tr style=\"text-align: right;\">\n",
       "      <th></th>\n",
       "      <th>Id</th>\n",
       "      <th>SepalLengthCm</th>\n",
       "      <th>SepalWidthCm</th>\n",
       "      <th>PetalLengthCm</th>\n",
       "      <th>PetalWidthCm</th>\n",
       "      <th>Species</th>\n",
       "    </tr>\n",
       "  </thead>\n",
       "  <tbody>\n",
       "    <tr>\n",
       "      <th>0</th>\n",
       "      <td>1</td>\n",
       "      <td>5.1</td>\n",
       "      <td>3.5</td>\n",
       "      <td>1.4</td>\n",
       "      <td>0.2</td>\n",
       "      <td>Iris-setosa</td>\n",
       "    </tr>\n",
       "    <tr>\n",
       "      <th>1</th>\n",
       "      <td>2</td>\n",
       "      <td>4.9</td>\n",
       "      <td>3.0</td>\n",
       "      <td>1.4</td>\n",
       "      <td>0.2</td>\n",
       "      <td>Iris-setosa</td>\n",
       "    </tr>\n",
       "    <tr>\n",
       "      <th>2</th>\n",
       "      <td>3</td>\n",
       "      <td>4.7</td>\n",
       "      <td>3.2</td>\n",
       "      <td>1.3</td>\n",
       "      <td>0.2</td>\n",
       "      <td>Iris-setosa</td>\n",
       "    </tr>\n",
       "    <tr>\n",
       "      <th>3</th>\n",
       "      <td>4</td>\n",
       "      <td>4.6</td>\n",
       "      <td>3.1</td>\n",
       "      <td>1.5</td>\n",
       "      <td>0.2</td>\n",
       "      <td>Iris-setosa</td>\n",
       "    </tr>\n",
       "    <tr>\n",
       "      <th>4</th>\n",
       "      <td>5</td>\n",
       "      <td>5.0</td>\n",
       "      <td>3.6</td>\n",
       "      <td>1.4</td>\n",
       "      <td>0.2</td>\n",
       "      <td>Iris-setosa</td>\n",
       "    </tr>\n",
       "  </tbody>\n",
       "</table>\n",
       "</div>"
      ],
      "text/plain": [
       "   Id  SepalLengthCm  SepalWidthCm  PetalLengthCm  PetalWidthCm      Species\n",
       "0   1            5.1           3.5            1.4           0.2  Iris-setosa\n",
       "1   2            4.9           3.0            1.4           0.2  Iris-setosa\n",
       "2   3            4.7           3.2            1.3           0.2  Iris-setosa\n",
       "3   4            4.6           3.1            1.5           0.2  Iris-setosa\n",
       "4   5            5.0           3.6            1.4           0.2  Iris-setosa"
      ]
     },
     "execution_count": 5,
     "metadata": {},
     "output_type": "execute_result"
    }
   ],
   "source": [
    "#Loading data iris\n",
    "import pandas as pd\n",
    "import numpy as np\n",
    "from sklearn.datasets import load_iris\n",
    "\n",
    "df = pd.read_csv('Iris.csv')\n",
    "df.head()\n"
   ]
  },
  {
   "cell_type": "code",
   "execution_count": 6,
   "metadata": {},
   "outputs": [
    {
     "data": {
      "text/plain": [
       "(150, 6)"
      ]
     },
     "execution_count": 6,
     "metadata": {},
     "output_type": "execute_result"
    }
   ],
   "source": [
    "df.shape"
   ]
  },
  {
   "cell_type": "code",
   "execution_count": 11,
   "metadata": {},
   "outputs": [
    {
     "name": "stdout",
     "output_type": "stream",
     "text": [
      "train size 120\n"
     ]
    }
   ],
   "source": [
    "from sklearn.preprocessing import LabelEncoder\n",
    "from sklearn.model_selection import train_test_split\n",
    "\n",
    "le = LabelEncoder()\n",
    "X = df.drop([\"Species\"], axis = 1).values\n",
    "y = le.fit_transform(df[\"Species\"].values)\n",
    "\n",
    "#Chia dữ liệu với test size = 0.2\n",
    "X_train, X_test, y_train, y_test = train_test_split(X, y, test_size = 0.2, random_state = 42)\n",
    "X_train = torch.FloatTensor(X_train) \n",
    "X_test = torch.FloatTensor(X_test)\n",
    "y_train = torch.LongTensor(y_train).reshape(-1,1)\n",
    "y_test = torch.LongTensor(y_test).reshape(-1,1)\n",
    "print(f\"train size {len(y_train)}\") \n",
    "\n",
    "\n"
   ]
  },
  {
   "cell_type": "code",
   "execution_count": 15,
   "metadata": {},
   "outputs": [
    {
     "name": "stdout",
     "output_type": "stream",
     "text": [
      "tensor([0, 1, 2]) tensor([40, 41, 39])\n"
     ]
    }
   ],
   "source": [
    "labels, counts = y_train.unique(return_counts=True)\n",
    "print(labels, counts)"
   ]
  },
  {
   "cell_type": "code",
   "execution_count": 16,
   "metadata": {},
   "outputs": [
    {
     "name": "stdout",
     "output_type": "stream",
     "text": [
      "tensor(2., requires_grad=True)\n",
      "None\n"
     ]
    }
   ],
   "source": [
    "#Tính đạo hàm bằng Pytorch \n",
    "#Cho y = 2x^4 + x^3 + 3x^2 + 5x + 1\n",
    "#Tính y'\n",
    "import torch\n",
    "#Tạo 1 tensor với requirments_grad được đặt thành True\n",
    "x = torch.tensor(2.0, requires_grad=True)\n",
    "print(x)\n",
    "print (x.grad)\n"
   ]
  },
  {
   "cell_type": "code",
   "execution_count": 17,
   "metadata": {},
   "outputs": [
    {
     "name": "stdout",
     "output_type": "stream",
     "text": [
      "tensor(63., grad_fn=<AddBackward0>)\n"
     ]
    }
   ],
   "source": [
    "#Định nghĩa hàm \n",
    "y = 2*x**4 + x**3 + 3*x**2 + 5*x + 1\n",
    "print(y) \n",
    "#Tại sao ra 63?\n",
    "#Vì x = 2\n"
   ]
  },
  {
   "cell_type": "code",
   "execution_count": 18,
   "metadata": {},
   "outputs": [
    {
     "data": {
      "text/plain": [
       "<AddBackward0 at 0x161c31045b0>"
      ]
     },
     "execution_count": 18,
     "metadata": {},
     "output_type": "execute_result"
    }
   ],
   "source": [
    "y.grad_fn"
   ]
  },
  {
   "cell_type": "code",
   "execution_count": 19,
   "metadata": {},
   "outputs": [],
   "source": [
    "#Thực hiện truyền ngược và tính toán tất cả các gradient\n",
    "y.backward()"
   ]
  },
  {
   "cell_type": "code",
   "execution_count": 20,
   "metadata": {},
   "outputs": [
    {
     "data": {
      "text/plain": [
       "tensor(93.)"
      ]
     },
     "execution_count": 20,
     "metadata": {},
     "output_type": "execute_result"
    }
   ],
   "source": [
    "#Kết quả đạo hàm\n",
    "x.grad"
   ]
  },
  {
   "cell_type": "code",
   "execution_count": 26,
   "metadata": {},
   "outputs": [
    {
     "name": "stdout",
     "output_type": "stream",
     "text": [
      "Giá trị của y: 435.0\n",
      "Độ dốc của đa thức tại x = 2: 1161.0\n"
     ]
    }
   ],
   "source": [
    "import torch\n",
    "\n",
    "# Bài tập \n",
    "# Tính y = 5x^6 + 3x^3 + 2x^1 + x + 2x + 5x^4 + 1\n",
    "# Cho biết độ dốc của đa thức trên tại điểm nào.\n",
    "x = torch.tensor(2.0, requires_grad=True)\n",
    "y = 5*x**6 + 3*x**3 + 2*x + x + 2*x + 5*x**4 + 1  # Chỉnh sửa công thức để đúng với đề bài\n",
    "print(f\"Giá trị của y: {y.item()}\")\n",
    "\n",
    "# Tính gradient\n",
    "y.backward()\n",
    "print(f\"Độ dốc của đa thức tại x = 2: {x.grad.item()}\")"
   ]
  },
  {
   "cell_type": "code",
   "execution_count": 5,
   "metadata": {},
   "outputs": [
    {
     "name": "stdout",
     "output_type": "stream",
     "text": [
      "Giá trị ban đầu của x: 2.0\n",
      "Giá trị của hàm số tại x = 2.0: 27.0\n",
      "Gradient dy/dx tại x = 2.0: 25.0\n",
      "\n",
      "Quá trình Gradient Descent:\n",
      "Vòng lặp 0: x = 2.0, f(x) = 27.0\n",
      "Vòng lặp 1: x = -0.5, f(x) = -1.125, gradient = 25.0\n",
      "Vòng lặp 2: x = -0.875, f(x) = -2.513671875, gradient = 3.75\n",
      "Vòng lặp 3: x = -1.2546875476837158, f(x) = -4.1001362800598145, gradient = 3.796875\n",
      "Vòng lặp 4: x = -1.7250847816467285, f(x) = -6.807298183441162, gradient = 4.703972339630127\n",
      "Vòng lặp 5: x = -2.427826166152954, f(x) = -13.660883903503418, gradient = 7.027413368225098\n",
      "Vòng lặp 6: x = -3.7249975204467773, f(x) = -41.56037521362305, gradient = 12.971714973449707\n",
      "Vòng lặp 7: x = -6.897680282592773, f(x) = -266.51019287109375, gradient = 31.726829528808594\n",
      "Vòng lặp 8: x = -18.912006378173828, f(x) = -6142.375, gradient = 120.14325714111328\n",
      "Vòng lặp 9: x = -119.14640808105469, f(x) = -1663589.5, gradient = 1002.3439331054688\n",
      "Vòng lặp 10: x = -4330.74755859375, f(x) = -81187307520.0, gradient = 42116.01171875\n"
     ]
    }
   ],
   "source": [
    "#Bài tập về nhà số 1\n",
    "import torch\n",
    "\n",
    "# Bước 1: Tạo tensor x có giá trị ban đầu là 2.0 và yêu cầu PyTorch theo dõi gradient\n",
    "x = torch.tensor(2.0, requires_grad=True)\n",
    "print(f'Giá trị ban đầu của x: {x.item()}')\n",
    "\n",
    "# Bước 2: Định nghĩa hàm số y = x^3 + 2x^2 + 5x + 1\n",
    "def function(x):\n",
    "    return x**3 + 2*x**2 + 5*x + 1\n",
    "\n",
    "# Bước 3: Tính giá trị của hàm số tại x = 2.0\n",
    "y = function(x)\n",
    "print(f'Giá trị của hàm số tại x = {x.item()}: {y.item()}')\n",
    "\n",
    "# Bước 4: Tính gradient dy/dx tại x = 2.0\n",
    "y.backward()\n",
    "gradient = x.grad\n",
    "print(f'Gradient dy/dx tại x = {x.item()}: {gradient.item()}')\n",
    "\n",
    "# Bước 5: Thực hiện Gradient Descent với learning rate alpha = 0.1 trong 10 vòng lặp\n",
    "learning_rate = 0.1\n",
    "iterations = 10\n",
    "\n",
    "# Reset giá trị x và gradient\n",
    "x = torch.tensor(2.0, requires_grad=True)\n",
    "\n",
    "print(\"\\nQuá trình Gradient Descent:\")\n",
    "print(f'Vòng lặp 0: x = {x.item()}, f(x) = {function(x).item()}')\n",
    "\n",
    "for i in range(iterations):\n",
    "    # Tính giá trị hàm số\n",
    "    y = function(x)\n",
    "    \n",
    "    # Tính gradient\n",
    "    if x.grad is not None:\n",
    "        x.grad.zero_()\n",
    "    y.backward()\n",
    "    \n",
    "    # Cập nhật giá trị x: x_new = x_old - alpha * gradient\n",
    "    with torch.no_grad():\n",
    "        x -= learning_rate * x.grad\n",
    "    \n",
    "    # In kết quả mỗi vòng lặp\n",
    "    print(f'Vòng lặp {i+1}: x = {x.item()}, f(x) = {function(x).item()}, gradient = {x.grad.item()}')\n"
   ]
  },
  {
   "cell_type": "code",
   "execution_count": null,
   "metadata": {},
   "outputs": [],
   "source": [
    "#Bài tập về nhà số 2\n",
    "#Tạo 1 tập dữ liệu giả với x là số giờ học (ngẫu nhiên từ 1 -10) và y là số điểm được tính y = 3x +5 + noise\n",
    "#Với noise là 1 giá trị ngẫu nhiên nhỏ\n",
    "#1. Khởi tạo tham số w và b ngẫu nhiên với requires_grad = True\n",
    "#2. Tính MSE\n",
    "#3. Tính gradient\n",
    "#4. Cập nhật tham số w và b bằng gradient Descent với Learning rate alpha = 0.01\n",
    "#5. Lập lại quá trình trên trong 100 vòng lập và quan sát sự hội tụ của mô hình"
   ]
  },
  {
   "cell_type": "code",
   "execution_count": 6,
   "metadata": {},
   "outputs": [
    {
     "name": "stdout",
     "output_type": "stream",
     "text": [
      "Dữ liệu x có shape: torch.Size([100, 1])\n",
      "Dữ liệu y có shape: torch.Size([100, 1])\n",
      "5 mẫu đầu tiên của x: [4.370861053466797, 9.556428909301758, 7.587945461273193, 6.3879265785217285, 2.404167652130127]\n",
      "5 mẫu đầu tiên của y: [18.199630737304688, 33.37028121948242, 27.8555965423584, 22.176212310791016, 11.992831230163574]\n",
      "\n",
      "Giá trị khởi tạo: w = 0.33669036626815796, b = 0.12880940735340118\n",
      "Giá trị thực: w = 3, b = 5\n",
      "\n",
      "Bắt đầu quá trình huấn luyện:\n",
      "Epoch 10/100, Loss: 4.9131, w: 3.6279, b: 0.8186\n",
      "Epoch 20/100, Loss: 4.5948, w: 3.6011, b: 0.9944\n",
      "Epoch 30/100, Loss: 4.3013, w: 3.5753, b: 1.1633\n",
      "Epoch 40/100, Loss: 4.0305, w: 3.5506, b: 1.3254\n",
      "Epoch 50/100, Loss: 3.7807, w: 3.5268, b: 1.4812\n",
      "Epoch 60/100, Loss: 3.5502, w: 3.5040, b: 1.6308\n",
      "Epoch 70/100, Loss: 3.3376, w: 3.4820, b: 1.7745\n",
      "Epoch 80/100, Loss: 3.1415, w: 3.4609, b: 1.9125\n",
      "Epoch 90/100, Loss: 2.9605, w: 3.4407, b: 2.0451\n",
      "Epoch 100/100, Loss: 2.7936, w: 3.4213, b: 2.1724\n",
      "\n",
      "Kết quả cuối cùng sau 100 vòng lặp:\n",
      "w = 3.4213 (giá trị thực: 3)\n",
      "b = 2.1724 (giá trị thực: 5)\n",
      "Loss cuối cùng: 2.7936\n",
      "\n",
      "Đồ thị hội tụ đã được lưu vào file 'linear_regression_convergence.png'\n"
     ]
    },
    {
     "data": {
      "image/png": "[encoded data removed]",
      "text/plain": [
       "<Figure size 1500x1000 with 4 Axes>"
      ]
     },
     "metadata": {},
     "output_type": "display_data"
    }
   ],
   "source": [
    "import torch\n",
    "import numpy as np\n",
    "import matplotlib.pyplot as plt\n",
    "\n",
    "# Đặt seed cho tính tái tạo (reproducibility)\n",
    "torch.manual_seed(42)\n",
    "np.random.seed(42)\n",
    "\n",
    "# 1. Tạo tập dữ liệu giả\n",
    "# x: số giờ học (ngẫu nhiên từ 1-10)\n",
    "# y: điểm số, được tính bằng y = 3x + 5 + noise\n",
    "n_samples = 100\n",
    "x = torch.FloatTensor(np.random.uniform(1, 10, size=(n_samples, 1)))\n",
    "noise = torch.FloatTensor(np.random.normal(0, 1, size=(n_samples, 1)))\n",
    "y_true = 3 * x + 5\n",
    "y = y_true + noise\n",
    "\n",
    "print(f\"Dữ liệu x có shape: {x.shape}\")\n",
    "print(f\"Dữ liệu y có shape: {y.shape}\")\n",
    "print(f\"5 mẫu đầu tiên của x: {x[:5].flatten().tolist()}\")\n",
    "print(f\"5 mẫu đầu tiên của y: {y[:5].flatten().tolist()}\")\n",
    "\n",
    "# 1. Khởi tạo tham số w và b ngẫu nhiên với requires_grad = True\n",
    "w = torch.randn(1, requires_grad=True)\n",
    "b = torch.randn(1, requires_grad=True)\n",
    "\n",
    "print(f\"\\nGiá trị khởi tạo: w = {w.item()}, b = {b.item()}\")\n",
    "print(f\"Giá trị thực: w = 3, b = 5\")\n",
    "\n",
    "# Định nghĩa hàm dự đoán và hàm mất mát\n",
    "def predict(x, w, b):\n",
    "    return x * w + b\n",
    "\n",
    "def mse_loss(y_pred, y_true):\n",
    "    return torch.mean((y_pred - y_true) ** 2)\n",
    "\n",
    "# Thiết lập learning rate và số vòng lặp\n",
    "learning_rate = 0.01\n",
    "n_epochs = 100\n",
    "\n",
    "# Lưu lại lịch sử để vẽ đồ thị\n",
    "w_history = [w.item()]\n",
    "b_history = [b.item()]\n",
    "loss_history = []\n",
    "\n",
    "# Vòng lặp Gradient Descent\n",
    "print(\"\\nBắt đầu quá trình huấn luyện:\")\n",
    "for epoch in range(n_epochs):\n",
    "    # 2. Tính giá trị dự đoán và MSE\n",
    "    y_pred = predict(x, w, b)\n",
    "    loss = mse_loss(y_pred, y)\n",
    "    loss_history.append(loss.item())\n",
    "    \n",
    "    # 3. Tính gradient\n",
    "    loss.backward()\n",
    "    \n",
    "    # 4. Cập nhật tham số w và b bằng Gradient Descent\n",
    "    with torch.no_grad():\n",
    "        w -= learning_rate * w.grad\n",
    "        b -= learning_rate * b.grad\n",
    "    \n",
    "    # Lưu lại giá trị của w và b sau mỗi vòng lặp\n",
    "    w_history.append(w.item())\n",
    "    b_history.append(b.item())\n",
    "    \n",
    "    # Reset gradient\n",
    "    w.grad.zero_()\n",
    "    b.grad.zero_()\n",
    "    \n",
    "    # In kết quả mỗi 10 vòng lặp\n",
    "    if (epoch + 1) % 10 == 0:\n",
    "        print(f\"Epoch {epoch+1}/{n_epochs}, Loss: {loss.item():.4f}, w: {w.item():.4f}, b: {b.item():.4f}\")\n",
    "\n",
    "print(f\"\\nKết quả cuối cùng sau {n_epochs} vòng lặp:\")\n",
    "print(f\"w = {w.item():.4f} (giá trị thực: 3)\")\n",
    "print(f\"b = {b.item():.4f} (giá trị thực: 5)\")\n",
    "print(f\"Loss cuối cùng: {loss_history[-1]:.4f}\")\n",
    "\n",
    "# 5. Vẽ đồ thị sự hội tụ của mô hình\n",
    "plt.figure(figsize=(15, 10))\n",
    "\n",
    "# Vẽ dữ liệu và đường hồi quy\n",
    "plt.subplot(2, 2, 1)\n",
    "plt.scatter(x.numpy(), y.numpy(), alpha=0.4, label='Dữ liệu')\n",
    "plt.plot(x.numpy(), y_true.numpy(), 'r', linewidth=2, label='Đường thực y=3x+5')\n",
    "plt.plot(x.numpy(), predict(x, w, b).detach().numpy(), 'g--', linewidth=2, label='Đường dự đoán')\n",
    "plt.xlabel('Số giờ học (x)')\n",
    "plt.ylabel('Điểm số (y)')\n",
    "plt.legend()\n",
    "plt.title('Dữ liệu và Mô hình')\n",
    "\n",
    "# Vẽ sự thay đổi của loss\n",
    "plt.subplot(2, 2, 2)\n",
    "plt.plot(loss_history)\n",
    "plt.xlabel('Epoch')\n",
    "plt.ylabel('Loss (MSE)')\n",
    "plt.title('Sự thay đổi của Loss theo Epoch')\n",
    "\n",
    "# Vẽ sự thay đổi của w\n",
    "plt.subplot(2, 2, 3)\n",
    "plt.plot(w_history)\n",
    "plt.axhline(y=3, color='r', linestyle='--', label='w thực = 3')\n",
    "plt.xlabel('Epoch')\n",
    "plt.ylabel('Giá trị của w')\n",
    "plt.legend()\n",
    "plt.title('Sự hội tụ của w')\n",
    "\n",
    "# Vẽ sự thay đổi của b\n",
    "plt.subplot(2, 2, 4)\n",
    "plt.plot(b_history)\n",
    "plt.axhline(y=5, color='r', linestyle='--', label='b thực = 5')\n",
    "plt.xlabel('Epoch')\n",
    "plt.ylabel('Giá trị của b')\n",
    "plt.legend()\n",
    "plt.title('Sự hội tụ của b')\n",
    "\n",
    "plt.tight_layout()\n",
    "plt.savefig('linear_regression_convergence.png')  # Lưu hình để xem\n",
    "print(\"\\nĐồ thị hội tụ đã được lưu vào file 'linear_regression_convergence.png'\")"
   ]
  },
  {
   "cell_type": "code",
   "execution_count": 27,
   "metadata": {},
   "outputs": [
    {
     "data": {
      "text/plain": [
       "'2.6.0+cpu'"
      ]
     },
     "execution_count": 27,
     "metadata": {},
     "output_type": "execute_result"
    }
   ],
   "source": [
    "#Pytorch with tensor \n",
    "import torch \n",
    "import numpy as np\n",
    "\n",
    "torch.__version__"
   ]
  },
  {
   "cell_type": "code",
   "execution_count": 28,
   "metadata": {},
   "outputs": [
    {
     "name": "stdout",
     "output_type": "stream",
     "text": [
      "[1 2 3 4 5]\n",
      "int64\n",
      "<class 'numpy.ndarray'>\n"
     ]
    }
   ],
   "source": [
    "#Chuyển đổi mảng numpy sang tensor pytorch\n",
    "arr = np.array([1,2,3,4,5])\n",
    "print(arr)\n",
    "print(arr.dtype)\n",
    "print(type(arr))"
   ]
  },
  {
   "cell_type": "code",
   "execution_count": 29,
   "metadata": {},
   "outputs": [
    {
     "name": "stdout",
     "output_type": "stream",
     "text": [
      "tensor([1, 2, 3, 4, 5])\n"
     ]
    }
   ],
   "source": [
    "x = torch.from_numpy(arr)\n",
    "print(x)"
   ]
  },
  {
   "cell_type": "code",
   "execution_count": 30,
   "metadata": {},
   "outputs": [
    {
     "name": "stdout",
     "output_type": "stream",
     "text": [
      "torch.int64\n"
     ]
    }
   ],
   "source": [
    "print(x.dtype) "
   ]
  },
  {
   "cell_type": "code",
   "execution_count": 32,
   "metadata": {},
   "outputs": [
    {
     "name": "stdout",
     "output_type": "stream",
     "text": [
      "torch.LongTensor\n"
     ]
    }
   ],
   "source": [
    "print(x.type())"
   ]
  },
  {
   "cell_type": "code",
   "execution_count": 33,
   "metadata": {},
   "outputs": [
    {
     "data": {
      "text/plain": [
       "array([[ 0.,  1.,  2.],\n",
       "       [ 3.,  4.,  5.],\n",
       "       [ 6.,  7.,  8.],\n",
       "       [ 9., 10., 11.]])"
      ]
     },
     "execution_count": 33,
     "metadata": {},
     "output_type": "execute_result"
    }
   ],
   "source": [
    "arr2 = np.arange(0.,12.).reshape(4,3)\n",
    "arr2 "
   ]
  },
  {
   "cell_type": "code",
   "execution_count": 34,
   "metadata": {},
   "outputs": [
    {
     "name": "stdout",
     "output_type": "stream",
     "text": [
      "tensor([[ 0.,  1.,  2.],\n",
      "        [ 3.,  4.,  5.],\n",
      "        [ 6.,  7.,  8.],\n",
      "        [ 9., 10., 11.]], dtype=torch.float64)\n",
      "torch.DoubleTensor\n"
     ]
    }
   ],
   "source": [
    "x2 = torch.from_numpy(arr2)\n",
    "print(x2)\n",
    "print(x2.type())"
   ]
  },
  {
   "cell_type": "code",
   "execution_count": 35,
   "metadata": {},
   "outputs": [
    {
     "name": "stdout",
     "output_type": "stream",
     "text": [
      "tensor([0, 1, 2, 3, 4])\n"
     ]
    }
   ],
   "source": [
    "arr = np.arange(0,5)\n",
    "x = torch.from_numpy(arr)\n",
    "print(x)"
   ]
  },
  {
   "cell_type": "code",
   "execution_count": 36,
   "metadata": {},
   "outputs": [
    {
     "name": "stdout",
     "output_type": "stream",
     "text": [
      "tensor([99,  1,  2,  3,  4])\n"
     ]
    }
   ],
   "source": [
    "arr[0] = 99\n",
    "print(x)"
   ]
  },
  {
   "cell_type": "code",
   "execution_count": null,
   "metadata": {},
   "outputs": [],
   "source": [
    "#Bài tập về nhà số 3\n",
    "#Giải thích lý do tại sao cho 2 trường hợp ở trên"
   ]
  },
  {
   "cell_type": "code",
   "execution_count": null,
   "metadata": {},
   "outputs": [],
   "source": [
    "#Bài tập về nhà số 4\n",
    "#bạn hãy giúp thầy về nhà tạo tensor với:\n",
    "#Empyty\n",
    "#Zeros\n",
    "#Ones\n",
    "#Random\n",
    "#Reshape với view và view as "
   ]
  },
  {
   "cell_type": "code",
   "execution_count": null,
   "metadata": {},
   "outputs": [],
   "source": [
    "#Dealine 166/03"
   ]
  }
 ],
 "metadata": {
  "kernelspec": {
   "display_name": ".venv",
   "language": "python",
   "name": "python3"
  },
  "language_info": {
   "codemirror_mode": {
    "name": "ipython",
    "version": 3
   },
   "file_extension": ".py",
   "mimetype": "text/x-python",
   "name": "python",
   "nbconvert_exporter": "python",
   "pygments_lexer": "ipython3",
   "version": "3.13.1"
  }
 },
 "nbformat": 4,
 "nbformat_minor": 2
}
