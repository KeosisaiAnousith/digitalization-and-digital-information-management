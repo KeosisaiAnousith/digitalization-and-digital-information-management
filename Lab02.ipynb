{
 "cells": [
  {
   "cell_type": "markdown",
   "metadata": {},
   "source": [
    "### LAB 2: NUMPY, PANDAS VÀ MATPLOTLIB NÂNG CAOCAO"
   ]
  },
  {
   "cell_type": "markdown",
   "metadata": {},
   "source": [
    "### 1. NUMPY"
   ]
  },
  {
   "cell_type": "code",
   "execution_count": 4,
   "metadata": {},
   "outputs": [
    {
     "name": "stdout",
     "output_type": "stream",
     "text": [
      "[[1 2]\n",
      " [3 4]\n",
      " [5 6]]\n",
      "[16 15 14 13]\n"
     ]
    }
   ],
   "source": [
    "import numpy as np\n",
    "\n",
    "x = np.array([1,2,3,4,5,6,7,8,9,10,11,12,13,14,15,16])\n",
    "#Lấy số 3\n",
    "x[2]\n",
    "\n",
    "#Lấy 1 2 3 \n",
    "x[:3]\n",
    "\n",
    "#Lấy từ 3 - 8\n",
    "x[2:8]\n",
    "\n",
    "x[2:]\n",
    "\n",
    "#Lấy từ 3 -> 7\n",
    "x[2:7]\n",
    "\n",
    "x[2:-1]\n",
    "\n",
    "#Lấy 7, 8\n",
    "x[-2:]\n",
    "\n",
    "#Lấy phần tử với index 2 và 4\n",
    "x [2], x[4]\n",
    "\n",
    "data = ([1,2], [3,4], [5,6])\n",
    "mang = np.array(data)\n",
    "print(mang)\n",
    "\n",
    "\n",
    "mang [0,1]\n",
    "mang [-1,1]\n",
    "\n",
    "#Lấy 3 4 5 6\n",
    "mang[1:, :]\n",
    "\n",
    "#cách 2\n",
    "mang [[1,2], :]\n",
    "\n",
    "mang [1:3]\n",
    "\n",
    "mang [[1, 1, 2, 2, 2]]\n",
    "\n",
    "result = x[[-1, -2, -3, -4]]\n",
    "print(result)"
   ]
  },
  {
   "cell_type": "markdown",
   "metadata": {},
   "source": [
    "### BÀI TẬP TẾT VỀ NHÀ \n",
    "\n",
    "# Cho ma trân sau = [ \n",
    "#       [99,99,99],\n",
    "#       [99,99,99],\n",
    "#       [99,99,99]\n",
    "# ]\n",
    "\n",
    "# Giả sử 0 = 0 và 1 là x\n",
    "# Nhận đầu vào từ phía x và 0 luân phiên \n",
    "# cho các bạn một cặp chỉ số\n",
    "# nếu phía x nhập ((0,0)) thì ma trận trở thành \n",
    "# [ \n",
    "#       [XX,99,99],\n",
    "#       [99,99,99],\n",
    "#       [99,99,99]\n",
    "# ]\n",
    "\n",
    "# Nếu phía 0 nhập ((0,0)) thì yếu cầu nhập lại và nếu không thì điền vào ma trận \n",
    "\n",
    "# Thử thách của các bạn ở nhà ăn tết: nếu ai đó có ba ô liên tiếp thì dừng trò chơi.\n",
    "\n"
   ]
  },
  {
   "cell_type": "markdown",
   "metadata": {},
   "source": [
    "### Bài tập trên lớp từ 14h20p - 14h35\n",
    "\n",
    "# Cho ma trận sau \n",
    "matrix = [ \n",
    "    [1,2,3],\n",
    "    [4,5,6],\n",
    "    [7,8,9]\n",
    "]\n",
    "\n",
    "# Câu 1: Lấy 4, 5, 6\n",
    "result1 = matrix[1]\n",
    "print(\"Câu 1:\", result1)\n",
    "# Câu 2: Lấy 2, 5\n",
    "result2 = [matrix[0][1], matrix[1][1]]\n",
    "print(\"Câu 2:\", result2)\n",
    "# Câu 3: Lấy 3, 4\n",
    "result3 = [matrix[0][2], matrix[1][0]]\n",
    "print(\"Câu 3:\", result3) \n",
    "# Câu 4: Lấy 9, 6, 3\n",
    "result4 = [matrix[2][2], matrix[1][2], matrix[0][2]]\n",
    "print(\"Câu 4:\", result4)"
   ]
  },
  {
   "cell_type": "code",
   "execution_count": 5,
   "metadata": {},
   "outputs": [
    {
     "name": "stdout",
     "output_type": "stream",
     "text": [
      "Câu 1: [4, 5, 6]\n",
      "Câu 2: [2, 5]\n",
      "Câu 3: [3, 4]\n",
      "Câu 4: [9, 6, 3]\n"
     ]
    }
   ],
   "source": [
    "#Cho ma trận sau:\n",
    "matran = [ \n",
    "    [1,2,3],\n",
    "    [4,5,6],\n",
    "    [7,8,9]\n",
    "]\n",
    "\n",
    "# Câu 1: Lấy 4, 5, 6\n",
    "result1 = matran[1]\n",
    "print(\"Câu 1:\", result1)\n",
    "# Câu 2: Lấy 2, 5\n",
    "result2 = [matran[0][1], matran[1][1]]\n",
    "print(\"Câu 2:\", result2)\n",
    "# Câu 3: Lấy 3, 4\n",
    "result3 = [matran[0][2], matran[1][0]]\n",
    "print(\"Câu 3:\", result3) \n",
    "# Câu 4: Lấy 9, 6, 3\n",
    "result4 = [matran[2][2], matran[1][2], matran[0][2]]\n",
    "print(\"Câu 4:\", result4)"
   ]
  },
  {
   "cell_type": "code",
   "execution_count": 6,
   "metadata": {},
   "outputs": [
    {
     "name": "stdout",
     "output_type": "stream",
     "text": [
      "Câu 1: [4, 5, 6]\n",
      "Câu 2: [2, 5]\n",
      "Câu 3: [3, 4]\n",
      "Câu 4: [9, 6, 3]\n"
     ]
    }
   ],
   "source": [
    "#Cho ma trận sau:\n",
    "matran = [ \n",
    "    [1,2,3],\n",
    "    [4,5,6],\n",
    "    [7,8,9]\n",
    "]\n",
    "\n",
    "matrix_np = np.array(matran)\n",
    "# Câu 1: Lấy 4, 5, 6\n",
    "result1_np = matrix_np[1,:]\n",
    "print(\"Câu 1:\", result1)\n",
    "# Câu 2: Lấy 2, 5\n",
    "result2_np = matrix_np[[0,1], [1,1]]\n",
    "print(\"Câu 2:\", result2)\n",
    "# Câu 3: Lấy 3, 4\n",
    "result3_np = [matrix_np[0,2], matrix_np[1,0]]\n",
    "print(\"Câu 3:\", result3) \n",
    "# Câu 4: Lấy 9, 6, 3\n",
    "result4_np = matrix_np[::-1, 2]\n",
    "print(\"Câu 4:\", result4)"
   ]
  },
  {
   "cell_type": "code",
   "execution_count": 9,
   "metadata": {},
   "outputs": [
    {
     "name": "stdout",
     "output_type": "stream",
     "text": [
      "[4 5 6]\n",
      "2 5\n",
      "3 4\n",
      "9 6 3\n"
     ]
    }
   ],
   "source": [
    "import numpy as np\n",
    "\n",
    "# Tạo ma trận từ dữ liệu cho trước\n",
    "Matran = [[1, 2, 3], \n",
    "          [4, 5, 6], \n",
    "          [7, 8, 9]]\n",
    "mang = np.array(Matran)\n",
    "\n",
    "# Lấy 4, 5, 6 (hàng 1)\n",
    "print(mang[1,:])  # [4 5 6]\n",
    "\n",
    "# Lấy 2, 5 \n",
    "print(mang[0,1], mang[1,1])  # 2 5\n",
    "\n",
    "# Lấy 3, 4\n",
    "print(mang[0,2], mang[1,0])  # 3 4\n",
    "\n",
    "# Lấy 9, 6, 3 \n",
    "print(mang[2,2], mang[1,2], mang[0,2])  # 9 6 3"
   ]
  },
  {
   "cell_type": "code",
   "execution_count": 11,
   "metadata": {},
   "outputs": [
    {
     "name": "stdout",
     "output_type": "stream",
     "text": [
      "Cách 1:\n",
      "1     2\n",
      "3     4\n",
      "5     6\n",
      "7     8\n",
      "9    10\n",
      "dtype: int64\n",
      "\n",
      "Cách 2:\n",
      "1     2\n",
      "3     4\n",
      "5     6\n",
      "7     8\n",
      "9    10\n",
      "dtype: int64\n"
     ]
    }
   ],
   "source": [
    "import pandas as pd\n",
    "x = [1,2,3,4,5,6,7,8,9,10]\n",
    "\n",
    "series = pd.Series(x)\n",
    "# Lấy ra các phần tử có số chẵn\n",
    "even1 = series[series % 2 == 0]\n",
    "print(\"Cách 1:\")\n",
    "print(even1)\n",
    "\n",
    "even3 = series.loc[series % 2 == 0]\n",
    "print(\"\\nCách 2:\")\n",
    "print(even3)\n",
    "\n"
   ]
  },
  {
   "cell_type": "code",
   "execution_count": 14,
   "metadata": {},
   "outputs": [
    {
     "name": "stdout",
     "output_type": "stream",
     "text": [
      "[2, 4, 6, 8, 10]\n",
      "[1, 3, 5, 7, 9]\n"
     ]
    }
   ],
   "source": [
    "x = [1,2,3,4,5,6,7,8,9,10]\n",
    "#Lấy chẵn\n",
    "mang_chan = [ num for num in x if num % 2== 0]\n",
    "print(mang_chan)\n",
    "#Lấy lẻ\n",
    "mang_le = [ num for num in x if num % 2== 1]\n",
    "print(mang_le)"
   ]
  },
  {
   "cell_type": "code",
   "execution_count": 15,
   "metadata": {},
   "outputs": [
    {
     "data": {
      "text/plain": [
       "array([[1., 1., 1.],\n",
       "       [1., 1., 1.],\n",
       "       [1., 1., 1.]])"
      ]
     },
     "execution_count": 15,
     "metadata": {},
     "output_type": "execute_result"
    }
   ],
   "source": [
    "np.ones((3,3))\n"
   ]
  },
  {
   "cell_type": "code",
   "execution_count": 17,
   "metadata": {},
   "outputs": [
    {
     "data": {
      "text/plain": [
       "array([0, 1, 2])"
      ]
     },
     "execution_count": 17,
     "metadata": {},
     "output_type": "execute_result"
    }
   ],
   "source": [
    "np.arange (3)"
   ]
  },
  {
   "cell_type": "code",
   "execution_count": 24,
   "metadata": {},
   "outputs": [
    {
     "data": {
      "text/plain": [
       "array([[1., 2., 3.],\n",
       "       [1., 2., 3.],\n",
       "       [1., 2., 3.]])"
      ]
     },
     "execution_count": 24,
     "metadata": {},
     "output_type": "execute_result"
    }
   ],
   "source": [
    "np.ones((3,3)) + np.arange (3)"
   ]
  },
  {
   "cell_type": "code",
   "execution_count": 26,
   "metadata": {},
   "outputs": [
    {
     "data": {
      "text/plain": [
       "array([0, 1, 2])"
      ]
     },
     "execution_count": 26,
     "metadata": {},
     "output_type": "execute_result"
    }
   ],
   "source": [
    "x = np.arange (3)\n",
    "x"
   ]
  },
  {
   "cell_type": "code",
   "execution_count": 27,
   "metadata": {},
   "outputs": [
    {
     "data": {
      "text/plain": [
       "(3,)"
      ]
     },
     "execution_count": 27,
     "metadata": {},
     "output_type": "execute_result"
    }
   ],
   "source": [
    "x.shape "
   ]
  },
  {
   "cell_type": "code",
   "execution_count": 28,
   "metadata": {},
   "outputs": [
    {
     "data": {
      "text/plain": [
       "array([[0],\n",
       "       [1],\n",
       "       [2]])"
      ]
     },
     "execution_count": 28,
     "metadata": {},
     "output_type": "execute_result"
    }
   ],
   "source": [
    "x = x.reshape((3,1))\n",
    "x"
   ]
  },
  {
   "cell_type": "code",
   "execution_count": 30,
   "metadata": {},
   "outputs": [
    {
     "data": {
      "text/plain": [
       "array([0, 1, 2])"
      ]
     },
     "execution_count": 30,
     "metadata": {},
     "output_type": "execute_result"
    }
   ],
   "source": [
    "y = np.arange(3)\n",
    "y"
   ]
  },
  {
   "cell_type": "code",
   "execution_count": null,
   "metadata": {},
   "outputs": [],
   "source": [
    "y = np.arange(3)\n",
    "y"
   ]
  },
  {
   "cell_type": "code",
   "execution_count": 31,
   "metadata": {},
   "outputs": [
    {
     "data": {
      "text/plain": [
       "array([[0, 1, 2],\n",
       "       [1, 2, 3],\n",
       "       [2, 3, 4]])"
      ]
     },
     "execution_count": 31,
     "metadata": {},
     "output_type": "execute_result"
    }
   ],
   "source": [
    "x + y"
   ]
  },
  {
   "cell_type": "markdown",
   "metadata": {},
   "source": [
    "### BÀI TẬP KẾT NUMPY\n",
    "# Tạo 1 mảng numpy có kích thước 150 x 5 hãy tưởng tượng mảng này chứa 150 mẫu về chiều cao, cân năng, tuổi, lương, GPA của sinh viên Văn Lang\n",
    "\n",
    "# Chia mảng bốn cột đầu tiên thành một biến có tên là X và cột cuối cùng thành Y.\n",
    "\n",
    "# Chia X thành X_train và X_test chứa 70% dữ liệu và chia y thành y_train và y_test, trong đó y_train chứa 70% dữ liệu.\n",
    "\n",
    "# Tạo 10 tập dữ liệu không chồng chéo của X_train."
   ]
  },
  {
   "cell_type": "code",
   "execution_count": 26,
   "metadata": {},
   "outputs": [
    {
     "data": {
      "text/plain": [
       "(150, 5)"
      ]
     },
     "execution_count": 26,
     "metadata": {},
     "output_type": "execute_result"
    }
   ],
   "source": [
    "import numpy as np\n",
    "data = np.random.uniform(0, 10, (150, 5))\n",
    "data.shape"
   ]
  },
  {
   "cell_type": "code",
   "execution_count": 27,
   "metadata": {},
   "outputs": [
    {
     "data": {
      "text/plain": [
       "((150, 4), (150,))"
      ]
     },
     "execution_count": 27,
     "metadata": {},
     "output_type": "execute_result"
    }
   ],
   "source": [
    "x = data[:, :-1] \n",
    "y = data[:, -1]\n",
    "\n",
    "x.shape, y.shape"
   ]
  },
  {
   "cell_type": "code",
   "execution_count": 28,
   "metadata": {},
   "outputs": [
    {
     "data": {
      "text/plain": [
       "150"
      ]
     },
     "execution_count": 28,
     "metadata": {},
     "output_type": "execute_result"
    }
   ],
   "source": [
    "dataset_size  = x.shape[0]\n",
    "dataset_size\n",
    "\n"
   ]
  },
  {
   "cell_type": "code",
   "execution_count": 29,
   "metadata": {},
   "outputs": [
    {
     "data": {
      "text/plain": [
       "105"
      ]
     },
     "execution_count": 29,
     "metadata": {},
     "output_type": "execute_result"
    }
   ],
   "source": [
    "train_size = int(dataset_size * 0.7)\n",
    "train_size"
   ]
  },
  {
   "cell_type": "code",
   "execution_count": 30,
   "metadata": {},
   "outputs": [
    {
     "data": {
      "text/plain": [
       "((105, 4), (45, 4))"
      ]
     },
     "execution_count": 30,
     "metadata": {},
     "output_type": "execute_result"
    }
   ],
   "source": [
    "x_train = x[:train_size]\n",
    "x_test = x[train_size:]\n",
    "\n",
    "x_train.shape, x_test.shape"
   ]
  },
  {
   "cell_type": "code",
   "execution_count": 31,
   "metadata": {},
   "outputs": [
    {
     "data": {
      "text/plain": [
       "10"
      ]
     },
     "execution_count": 31,
     "metadata": {},
     "output_type": "execute_result"
    }
   ],
   "source": [
    "split = x_train.shape[0]//10\n",
    "split\n"
   ]
  },
  {
   "cell_type": "code",
   "execution_count": 32,
   "metadata": {},
   "outputs": [
    {
     "name": "stdout",
     "output_type": "stream",
     "text": [
      "(10, 4)\n",
      "(10, 4)\n",
      "(10, 4)\n",
      "(10, 4)\n",
      "(10, 4)\n",
      "(10, 4)\n",
      "(10, 4)\n",
      "(10, 4)\n",
      "(10, 4)\n",
      "(10, 4)\n",
      "(5, 4)\n"
     ]
    }
   ],
   "source": [
    "for counter in range(0, x_train.shape[0], split):\n",
    "    print(x_train[counter:counter+split].shape)"
   ]
  }
 ],
 "metadata": {
  "kernelspec": {
   "display_name": "Python 3",
   "language": "python",
   "name": "python3"
  },
  "language_info": {
   "codemirror_mode": {
    "name": "ipython",
    "version": 3
   },
   "file_extension": ".py",
   "mimetype": "text/x-python",
   "name": "python",
   "nbconvert_exporter": "python",
   "pygments_lexer": "ipython3",
   "version": "3.13.1"
  }
 },
 "nbformat": 4,
 "nbformat_minor": 2
}
